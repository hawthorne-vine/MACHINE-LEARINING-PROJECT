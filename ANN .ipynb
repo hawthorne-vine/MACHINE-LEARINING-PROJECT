{
 "cells": [
  {
   "cell_type": "markdown",
   "id": "c06f82a9",
   "metadata": {},
   "source": [
    "## AUDIO CLASSIFICATION USING ANN"
   ]
  },
  {
   "cell_type": "markdown",
   "id": "9924b0fe",
   "metadata": {},
   "source": [
    "### DATESET USED :  A SUBSET OF ESC-50 "
   ]
  },
  {
   "cell_type": "code",
   "execution_count": 1,
   "id": "c9e0ca4d",
   "metadata": {},
   "outputs": [],
   "source": [
    "import librosa\n",
    "audio_dataset_path=r\"C:\\Users\\user\\Downloads\\ESC-50-master\\ESC-50-master\\audio\" \n",
    "audio_file_path=r'C:\\Users\\user\\Downloads\\ESC-50-master\\ESC-50-master\\audio\\1-137-A-32.wav'\n",
    "librosa_audio_data,librosa_sample_rate=librosa.load(audio_file_path)"
   ]
  },
  {
   "cell_type": "code",
   "execution_count": 2,
   "id": "f1cb4a6d",
   "metadata": {},
   "outputs": [
    {
     "name": "stdout",
     "output_type": "stream",
     "text": [
      "[0.00656235 0.00955651 0.00642572 ... 0.00136232 0.00288864 0.00398632]\n"
     ]
    }
   ],
   "source": [
    "print(librosa_audio_data)"
   ]
  },
  {
   "cell_type": "markdown",
   "id": "34004278",
   "metadata": {},
   "source": [
    "### VISUALISATION OF THE AUDIO DATA"
   ]
  },
  {
   "cell_type": "code",
   "execution_count": 3,
   "id": "4558263c",
   "metadata": {},
   "outputs": [
    {
     "data": {
      "text/plain": [
       "[<matplotlib.lines.Line2D at 0x1c8ba915370>]"
      ]
     },
     "execution_count": 3,
     "metadata": {},
     "output_type": "execute_result"
    },
    {
     "data": {
      "image/png": "[encoded data removed]",
      "text/plain": [
       "<Figure size 864x288 with 1 Axes>"
      ]
     },
     "metadata": {
      "needs_background": "light"
     },
     "output_type": "display_data"
    }
   ],
   "source": [
    "import matplotlib.pyplot as plt\n",
    "plt.figure(figsize=(12, 4))\n",
    "plt.plot(librosa_audio_data)"
   ]
  },
  {
   "cell_type": "markdown",
   "id": "942f71da",
   "metadata": {},
   "source": [
    "### DATA PREPROCESSING"
   ]
  },
  {
   "cell_type": "code",
   "execution_count": 4,
   "id": "05237af8",
   "metadata": {},
   "outputs": [
    {
     "data": {
      "text/html": [
       "<div>\n",
       "<style scoped>\n",
       "    .dataframe tbody tr th:only-of-type {\n",
       "        vertical-align: middle;\n",
       "    }\n",
       "\n",
       "    .dataframe tbody tr th {\n",
       "        vertical-align: top;\n",
       "    }\n",
       "\n",
       "    .dataframe thead th {\n",
       "        text-align: right;\n",
       "    }\n",
       "</style>\n",
       "<table border=\"1\" class=\"dataframe\">\n",
       "  <thead>\n",
       "    <tr style=\"text-align: right;\">\n",
       "      <th></th>\n",
       "      <th>filename</th>\n",
       "      <th>category</th>\n",
       "      <th>label</th>\n",
       "    </tr>\n",
       "  </thead>\n",
       "  <tbody>\n",
       "    <tr>\n",
       "      <th>0</th>\n",
       "      <td>1-100032-A-0.wav</td>\n",
       "      <td>18</td>\n",
       "      <td>dog</td>\n",
       "    </tr>\n",
       "    <tr>\n",
       "      <th>1</th>\n",
       "      <td>1-100038-A-14.wav</td>\n",
       "      <td>7</td>\n",
       "      <td>chirping_birds</td>\n",
       "    </tr>\n",
       "    <tr>\n",
       "      <th>2</th>\n",
       "      <td>1-100210-A-36.wav</td>\n",
       "      <td>46</td>\n",
       "      <td>vacuum_cleaner</td>\n",
       "    </tr>\n",
       "    <tr>\n",
       "      <th>3</th>\n",
       "      <td>1-100210-B-36.wav</td>\n",
       "      <td>46</td>\n",
       "      <td>vacuum_cleaner</td>\n",
       "    </tr>\n",
       "    <tr>\n",
       "      <th>4</th>\n",
       "      <td>1-101296-A-19.wav</td>\n",
       "      <td>43</td>\n",
       "      <td>thunderstorm</td>\n",
       "    </tr>\n",
       "  </tbody>\n",
       "</table>\n",
       "</div>"
      ],
      "text/plain": [
       "            filename  category           label\n",
       "0   1-100032-A-0.wav        18             dog\n",
       "1  1-100038-A-14.wav         7  chirping_birds\n",
       "2  1-100210-A-36.wav        46  vacuum_cleaner\n",
       "3  1-100210-B-36.wav        46  vacuum_cleaner\n",
       "4  1-101296-A-19.wav        43    thunderstorm"
      ]
     },
     "execution_count": 4,
     "metadata": {},
     "output_type": "execute_result"
    }
   ],
   "source": [
    "import pandas as pd\n",
    "metadata = pd.read_csv(r\"C:\\Users\\user\\Downloads\\ESC-50-master\\ESC-50-master\\meta\\esc50.csv\")\n",
    "metadata.drop(columns=[\"fold\", \"target\", \"esc10\", \"src_file\", \"take\"],inplace=True)\n",
    "\n",
    "metadata[\"label\"]=metadata.category\n",
    "from sklearn.preprocessing import LabelEncoder\n",
    "encoder=LabelEncoder()\n",
    "metadata['category']=encoder.fit_transform(metadata['category'])\n",
    "metadata.head()"
   ]
  },
  {
   "cell_type": "code",
   "execution_count": 5,
   "id": "9152ea15",
   "metadata": {},
   "outputs": [
    {
     "data": {
      "text/html": [
       "<div>\n",
       "<style scoped>\n",
       "    .dataframe tbody tr th:only-of-type {\n",
       "        vertical-align: middle;\n",
       "    }\n",
       "\n",
       "    .dataframe tbody tr th {\n",
       "        vertical-align: top;\n",
       "    }\n",
       "\n",
       "    .dataframe thead th {\n",
       "        text-align: right;\n",
       "    }\n",
       "</style>\n",
       "<table border=\"1\" class=\"dataframe\">\n",
       "  <thead>\n",
       "    <tr style=\"text-align: right;\">\n",
       "      <th></th>\n",
       "      <th>filename</th>\n",
       "      <th>category</th>\n",
       "      <th>label</th>\n",
       "    </tr>\n",
       "  </thead>\n",
       "  <tbody>\n",
       "    <tr>\n",
       "      <th>7</th>\n",
       "      <td>1-101404-A-34.wav</td>\n",
       "      <td>3</td>\n",
       "      <td>can_opening</td>\n",
       "    </tr>\n",
       "    <tr>\n",
       "      <th>25</th>\n",
       "      <td>1-11687-A-47.wav</td>\n",
       "      <td>0</td>\n",
       "      <td>airplane</td>\n",
       "    </tr>\n",
       "    <tr>\n",
       "      <th>51</th>\n",
       "      <td>1-17092-A-27.wav</td>\n",
       "      <td>2</td>\n",
       "      <td>brushing_teeth</td>\n",
       "    </tr>\n",
       "    <tr>\n",
       "      <th>52</th>\n",
       "      <td>1-17092-B-27.wav</td>\n",
       "      <td>2</td>\n",
       "      <td>brushing_teeth</td>\n",
       "    </tr>\n",
       "    <tr>\n",
       "      <th>53</th>\n",
       "      <td>1-17124-A-43.wav</td>\n",
       "      <td>4</td>\n",
       "      <td>car_horn</td>\n",
       "    </tr>\n",
       "  </tbody>\n",
       "</table>\n",
       "</div>"
      ],
      "text/plain": [
       "             filename  category           label\n",
       "7   1-101404-A-34.wav         3     can_opening\n",
       "25   1-11687-A-47.wav         0        airplane\n",
       "51   1-17092-A-27.wav         2  brushing_teeth\n",
       "52   1-17092-B-27.wav         2  brushing_teeth\n",
       "53   1-17124-A-43.wav         4        car_horn"
      ]
     },
     "execution_count": 5,
     "metadata": {},
     "output_type": "execute_result"
    }
   ],
   "source": [
    "metadata=metadata[metadata['category']<=4]\n",
    "metadata.head()"
   ]
  },
  {
   "cell_type": "markdown",
   "id": "60f43b5c",
   "metadata": {},
   "source": [
    "### FEATURE EXTRACTION "
   ]
  },
  {
   "cell_type": "code",
   "execution_count": 6,
   "id": "c4a2e0c3",
   "metadata": {},
   "outputs": [
    {
     "name": "stdout",
     "output_type": "stream",
     "text": [
      "(40, 216)\n"
     ]
    }
   ],
   "source": [
    "mfccs = librosa.feature.mfcc(y=librosa_audio_data, sr=librosa_sample_rate, n_mfcc=40)\n",
    "print(mfccs.shape)"
   ]
  },
  {
   "cell_type": "code",
   "execution_count": 7,
   "id": "55016c02",
   "metadata": {},
   "outputs": [
    {
     "data": {
      "text/plain": [
       "array([[-415.01807  , -451.5291   , -280.0465   , ..., -129.99751  ,\n",
       "         -89.79255  , -163.38759  ],\n",
       "       [  84.291374 ,   93.8644   ,   25.177874 , ...,   47.161446 ,\n",
       "          50.28531  ,   56.33996  ],\n",
       "       [ -20.709496 ,  -20.171003 ,  -62.877335 , ...,  -39.84097  ,\n",
       "         -39.935417 ,  -35.624176 ],\n",
       "       ...,\n",
       "       [   4.8491163,    4.1312084,    1.4178624, ...,    7.0050206,\n",
       "           4.5551863,    3.8071551],\n",
       "       [  13.941518 ,    9.162032 ,    5.4254246, ...,    4.1170564,\n",
       "           5.1667027,    6.574893 ],\n",
       "       [  -1.307696 ,   -2.006269 ,   -1.6814048, ...,   -7.505477 ,\n",
       "         -10.50091  ,   -8.62315  ]], dtype=float32)"
      ]
     },
     "execution_count": 7,
     "metadata": {},
     "output_type": "execute_result"
    }
   ],
   "source": [
    "mfccs"
   ]
  },
  {
   "cell_type": "code",
   "execution_count": 8,
   "id": "76624c4c",
   "metadata": {},
   "outputs": [],
   "source": [
    "def features_extractor(file):\n",
    "    audio, sample_rate = librosa.load(file_name, res_type='kaiser_fast') \n",
    "    mfccs_features = librosa.feature.mfcc(y=audio, sr=sample_rate, n_mfcc=40)\n",
    "    mfccs_scaled_features = np.mean(mfccs_features.T,axis=0)\n",
    "    \n",
    "    return mfccs_scaled_features"
   ]
  },
  {
   "cell_type": "code",
   "execution_count": 9,
   "id": "ae7896d8",
   "metadata": {},
   "outputs": [],
   "source": [
    "import numpy as np\n",
    "import os\n",
    "from tqdm import tqdm\n",
    "extracted_features=[]\n",
    "for i in range(0,200):\n",
    "    file_name =os.path.join(audio_dataset_path, metadata['filename'].iloc[i])\n",
    "    final_class_labels=metadata['label'].iloc[i]\n",
    "    data=features_extractor(file_name)\n",
    "    extracted_features.append([data,final_class_labels])"
   ]
  },
  {
   "cell_type": "code",
   "execution_count": 10,
   "id": "84530b26",
   "metadata": {},
   "outputs": [
    {
     "data": {
      "text/html": [
       "<div>\n",
       "<style scoped>\n",
       "    .dataframe tbody tr th:only-of-type {\n",
       "        vertical-align: middle;\n",
       "    }\n",
       "\n",
       "    .dataframe tbody tr th {\n",
       "        vertical-align: top;\n",
       "    }\n",
       "\n",
       "    .dataframe thead th {\n",
       "        text-align: right;\n",
       "    }\n",
       "</style>\n",
       "<table border=\"1\" class=\"dataframe\">\n",
       "  <thead>\n",
       "    <tr style=\"text-align: right;\">\n",
       "      <th></th>\n",
       "      <th>feature</th>\n",
       "      <th>class</th>\n",
       "    </tr>\n",
       "  </thead>\n",
       "  <tbody>\n",
       "    <tr>\n",
       "      <th>0</th>\n",
       "      <td>[-493.73032, 18.225063, -2.1369822, 24.183554,...</td>\n",
       "      <td>can_opening</td>\n",
       "    </tr>\n",
       "    <tr>\n",
       "      <th>1</th>\n",
       "      <td>[-74.52284, 86.90861, -3.9368954, 52.791668, 6...</td>\n",
       "      <td>airplane</td>\n",
       "    </tr>\n",
       "    <tr>\n",
       "      <th>2</th>\n",
       "      <td>[-303.9246, 52.03674, -41.809372, 39.32183, -6...</td>\n",
       "      <td>brushing_teeth</td>\n",
       "    </tr>\n",
       "    <tr>\n",
       "      <th>3</th>\n",
       "      <td>[-538.3814, 38.297073, -16.772526, 19.91141, -...</td>\n",
       "      <td>brushing_teeth</td>\n",
       "    </tr>\n",
       "    <tr>\n",
       "      <th>4</th>\n",
       "      <td>[-517.9145, 18.057663, -12.951555, 2.6231358, ...</td>\n",
       "      <td>car_horn</td>\n",
       "    </tr>\n",
       "  </tbody>\n",
       "</table>\n",
       "</div>"
      ],
      "text/plain": [
       "                                             feature           class\n",
       "0  [-493.73032, 18.225063, -2.1369822, 24.183554,...     can_opening\n",
       "1  [-74.52284, 86.90861, -3.9368954, 52.791668, 6...        airplane\n",
       "2  [-303.9246, 52.03674, -41.809372, 39.32183, -6...  brushing_teeth\n",
       "3  [-538.3814, 38.297073, -16.772526, 19.91141, -...  brushing_teeth\n",
       "4  [-517.9145, 18.057663, -12.951555, 2.6231358, ...        car_horn"
      ]
     },
     "execution_count": 10,
     "metadata": {},
     "output_type": "execute_result"
    }
   ],
   "source": [
    "### converting extracted_features to Pandas dataframe\n",
    "extracted_features_df=pd.DataFrame(extracted_features,columns=['feature','class'])\n",
    "extracted_features_df.head()"
   ]
  },
  {
   "cell_type": "markdown",
   "id": "a5cafbdb",
   "metadata": {},
   "source": [
    "### SPLITTING OF DATA"
   ]
  },
  {
   "cell_type": "code",
   "execution_count": 11,
   "id": "59976d77",
   "metadata": {},
   "outputs": [],
   "source": [
    "X=np.array(extracted_features_df['feature'].tolist())\n",
    "y=np.array(extracted_features_df['class'].tolist())"
   ]
  },
  {
   "cell_type": "code",
   "execution_count": 12,
   "id": "f61b53ee",
   "metadata": {},
   "outputs": [
    {
     "data": {
      "text/plain": [
       "(200, 40)"
      ]
     },
     "execution_count": 12,
     "metadata": {},
     "output_type": "execute_result"
    }
   ],
   "source": [
    "X.shape"
   ]
  },
  {
   "cell_type": "code",
   "execution_count": 13,
   "id": "c75f3bee",
   "metadata": {},
   "outputs": [],
   "source": [
    "### Label Encoding\n",
    "from tensorflow.keras.utils import to_categorical\n",
    "from sklearn.preprocessing import LabelEncoder\n",
    "labelencoder=LabelEncoder()\n",
    "y=to_categorical(labelencoder.fit_transform(y))"
   ]
  },
  {
   "cell_type": "code",
   "execution_count": 14,
   "id": "5a8b7d3b",
   "metadata": {},
   "outputs": [],
   "source": [
    "from sklearn.model_selection import train_test_split\n",
    "X_train,X_test,y_train,y_test=train_test_split(X,y,test_size=0.2,random_state=0)"
   ]
  },
  {
   "cell_type": "code",
   "execution_count": 15,
   "id": "cdbbb13c",
   "metadata": {},
   "outputs": [
    {
     "name": "stdout",
     "output_type": "stream",
     "text": [
      "(160, 40)\n",
      "(40, 40)\n",
      "(160, 5)\n",
      "(40, 5)\n"
     ]
    }
   ],
   "source": [
    "print(X_train.shape)\n",
    "print(X_test.shape)\n",
    "print(y_train.shape)\n",
    "print(y_test.shape)"
   ]
  },
  {
   "cell_type": "markdown",
   "id": "0f4f9b02",
   "metadata": {},
   "source": [
    "### MODEL"
   ]
  },
  {
   "cell_type": "code",
   "execution_count": 16,
   "id": "62e1e2e6",
   "metadata": {},
   "outputs": [],
   "source": [
    "import tensorflow as tf\n",
    "from tensorflow.keras.models import Sequential\n",
    "from tensorflow.keras.layers import Dense,Dropout,Activation,Flatten\n",
    "from tensorflow.keras.optimizers import Adam\n",
    "from sklearn import metrics"
   ]
  },
  {
   "cell_type": "code",
   "execution_count": 17,
   "id": "8947ce64",
   "metadata": {},
   "outputs": [],
   "source": [
    "num_labels=y.shape[1]"
   ]
  },
  {
   "cell_type": "code",
   "execution_count": 18,
   "id": "16576066",
   "metadata": {},
   "outputs": [],
   "source": [
    "model=Sequential()\n",
    "###first layer\n",
    "model.add(Dense(300,input_shape=(40,)))\n",
    "model.add(Activation('relu'))\n",
    "model.add(Dropout(0.5))\n",
    "\n",
    "###second layer\n",
    "model.add(Dense(500))\n",
    "model.add(Activation('relu'))\n",
    "model.add(Dropout(0.5))\n",
    "\n",
    "###final layer\n",
    "model.add(Dense(num_labels))\n",
    "model.add(Activation('softmax'))"
   ]
  },
  {
   "cell_type": "code",
   "execution_count": 19,
   "id": "e7978598",
   "metadata": {},
   "outputs": [
    {
     "name": "stdout",
     "output_type": "stream",
     "text": [
      "Model: \"sequential\"\n",
      "_________________________________________________________________\n",
      "Layer (type)                 Output Shape              Param #   \n",
      "=================================================================\n",
      "dense (Dense)                (None, 300)               12300     \n",
      "_________________________________________________________________\n",
      "activation (Activation)      (None, 300)               0         \n",
      "_________________________________________________________________\n",
      "dropout (Dropout)            (None, 300)               0         \n",
      "_________________________________________________________________\n",
      "dense_1 (Dense)              (None, 500)               150500    \n",
      "_________________________________________________________________\n",
      "activation_1 (Activation)    (None, 500)               0         \n",
      "_________________________________________________________________\n",
      "dropout_1 (Dropout)          (None, 500)               0         \n",
      "_________________________________________________________________\n",
      "dense_2 (Dense)              (None, 5)                 2505      \n",
      "_________________________________________________________________\n",
      "activation_2 (Activation)    (None, 5)                 0         \n",
      "=================================================================\n",
      "Total params: 165,305\n",
      "Trainable params: 165,305\n",
      "Non-trainable params: 0\n",
      "_________________________________________________________________\n"
     ]
    }
   ],
   "source": [
    "model.summary()"
   ]
  },
  {
   "cell_type": "code",
   "execution_count": 22,
   "id": "0292e0f1",
   "metadata": {},
   "outputs": [],
   "source": [
    "model.compile(loss='categorical_crossentropy',metrics=['accuracy'],optimizer='adam')"
   ]
  },
  {
   "cell_type": "code",
   "execution_count": 23,
   "id": "ebfc5f49",
   "metadata": {},
   "outputs": [
    {
     "name": "stdout",
     "output_type": "stream",
     "text": [
      "Epoch 1/20\n",
      "16/16 [==============================] - 0s 11ms/step - loss: 26.9316 - accuracy: 0.3375 - val_loss: 8.3874 - val_accuracy: 0.5000\n",
      "Epoch 2/20\n",
      "16/16 [==============================] - 0s 3ms/step - loss: 24.3456 - accuracy: 0.3250 - val_loss: 9.7420 - val_accuracy: 0.1750\n",
      "Epoch 3/20\n",
      "16/16 [==============================] - 0s 3ms/step - loss: 18.5045 - accuracy: 0.3812 - val_loss: 9.9667 - val_accuracy: 0.3500\n",
      "Epoch 4/20\n",
      "16/16 [==============================] - 0s 3ms/step - loss: 16.5836 - accuracy: 0.4500 - val_loss: 4.1326 - val_accuracy: 0.5000\n",
      "Epoch 5/20\n",
      "16/16 [==============================] - 0s 3ms/step - loss: 11.3178 - accuracy: 0.4625 - val_loss: 2.9599 - val_accuracy: 0.5500\n",
      "Epoch 6/20\n",
      "16/16 [==============================] - 0s 3ms/step - loss: 11.5533 - accuracy: 0.5938 - val_loss: 1.9111 - val_accuracy: 0.7000\n",
      "Epoch 7/20\n",
      "16/16 [==============================] - 0s 3ms/step - loss: 8.7694 - accuracy: 0.5500 - val_loss: 3.8376 - val_accuracy: 0.7000\n",
      "Epoch 8/20\n",
      "16/16 [==============================] - 0s 3ms/step - loss: 9.9526 - accuracy: 0.4938 - val_loss: 4.0970 - val_accuracy: 0.4250\n",
      "Epoch 9/20\n",
      "16/16 [==============================] - 0s 4ms/step - loss: 9.8760 - accuracy: 0.5000 - val_loss: 2.5931 - val_accuracy: 0.6250\n",
      "Epoch 10/20\n",
      "16/16 [==============================] - 0s 3ms/step - loss: 6.5518 - accuracy: 0.5625 - val_loss: 1.5321 - val_accuracy: 0.6500\n",
      "Epoch 11/20\n",
      "16/16 [==============================] - 0s 3ms/step - loss: 7.6998 - accuracy: 0.4688 - val_loss: 1.7409 - val_accuracy: 0.6500\n",
      "Epoch 12/20\n",
      "16/16 [==============================] - 0s 3ms/step - loss: 5.0234 - accuracy: 0.5938 - val_loss: 1.6726 - val_accuracy: 0.6750\n",
      "Epoch 13/20\n",
      "16/16 [==============================] - 0s 3ms/step - loss: 4.6457 - accuracy: 0.6187 - val_loss: 2.1450 - val_accuracy: 0.6000\n",
      "Epoch 14/20\n",
      "16/16 [==============================] - 0s 3ms/step - loss: 4.1216 - accuracy: 0.5938 - val_loss: 1.8315 - val_accuracy: 0.5250\n",
      "Epoch 15/20\n",
      "16/16 [==============================] - 0s 3ms/step - loss: 3.5966 - accuracy: 0.6375 - val_loss: 1.5375 - val_accuracy: 0.6750\n",
      "Epoch 16/20\n",
      "16/16 [==============================] - 0s 4ms/step - loss: 4.2180 - accuracy: 0.5875 - val_loss: 1.7320 - val_accuracy: 0.6000\n",
      "Epoch 17/20\n",
      "16/16 [==============================] - 0s 3ms/step - loss: 3.8450 - accuracy: 0.5938 - val_loss: 1.6244 - val_accuracy: 0.6500\n",
      "Epoch 18/20\n",
      "16/16 [==============================] - 0s 3ms/step - loss: 2.9745 - accuracy: 0.5750 - val_loss: 1.6378 - val_accuracy: 0.5000\n",
      "Epoch 19/20\n",
      "16/16 [==============================] - 0s 3ms/step - loss: 2.8658 - accuracy: 0.6062 - val_loss: 1.6978 - val_accuracy: 0.4500\n",
      "Epoch 20/20\n",
      "16/16 [==============================] - 0s 3ms/step - loss: 2.1884 - accuracy: 0.6062 - val_loss: 1.2196 - val_accuracy: 0.6500\n"
     ]
    }
   ],
   "source": [
    "from tensorflow.keras.callbacks import ModelCheckpoint\n",
    "from datetime import datetime \n",
    "\n",
    "num_epochs = 20\n",
    "num_batch_size = 10\n",
    "\n",
    "\n",
    "history = model.fit(X_train, y_train, batch_size=num_batch_size, epochs=num_epochs, validation_data=(X_test, y_test))"
   ]
  },
  {
   "cell_type": "code",
   "execution_count": 24,
   "id": "eb243af4",
   "metadata": {},
   "outputs": [
    {
     "name": "stdout",
     "output_type": "stream",
     "text": [
      "0.6499999761581421\n"
     ]
    }
   ],
   "source": [
    "test_accuracy=model.evaluate(X_test,y_test,verbose=0)\n",
    "print(test_accuracy[1])"
   ]
  },
  {
   "cell_type": "code",
   "execution_count": 25,
   "id": "a4016560",
   "metadata": {},
   "outputs": [
    {
     "data": {
      "text/plain": [
       "0.7437499761581421"
      ]
     },
     "execution_count": 25,
     "metadata": {},
     "output_type": "execute_result"
    }
   ],
   "source": [
    "train_accuracy=model.evaluate(X_train,y_train,verbose=0)\n",
    "train_accuracy[1]"
   ]
  },
  {
   "cell_type": "code",
   "execution_count": 26,
   "id": "bd92db71",
   "metadata": {},
   "outputs": [
    {
     "name": "stdout",
     "output_type": "stream",
     "text": [
      "WARNING:tensorflow:From <ipython-input-26-bc459dba29cd>:1: Sequential.predict_classes (from tensorflow.python.keras.engine.sequential) is deprecated and will be removed after 2021-01-01.\n",
      "Instructions for updating:\n",
      "Please use instead:* `np.argmax(model.predict(x), axis=-1)`,   if your model does multi-class classification   (e.g. if it uses a `softmax` last-layer activation).* `(model.predict(x) > 0.5).astype(\"int32\")`,   if your model does binary classification   (e.g. if it uses a `sigmoid` last-layer activation).\n"
     ]
    },
    {
     "data": {
      "text/plain": [
       "array([1, 2, 4, 1, 2, 1, 0, 3, 1, 1, 3, 0, 0, 3, 2, 4, 3, 4, 3, 1, 1, 3,\n",
       "       0, 3, 4, 3, 1, 1, 2, 0, 4, 1, 1, 1, 3, 3, 0, 1, 2, 3], dtype=int64)"
      ]
     },
     "execution_count": 26,
     "metadata": {},
     "output_type": "execute_result"
    }
   ],
   "source": [
    "model.predict_classes(X_test)"
   ]
  },
  {
   "cell_type": "markdown",
   "id": "a145997e",
   "metadata": {},
   "source": [
    "### MODEL EVALUATION"
   ]
  },
  {
   "cell_type": "code",
   "execution_count": 27,
   "id": "40f3f531",
   "metadata": {},
   "outputs": [
    {
     "data": {
      "image/png": "[encoded data removed]",
      "text/plain": [
       "<Figure size 432x288 with 1 Axes>"
      ]
     },
     "metadata": {
      "needs_background": "light"
     },
     "output_type": "display_data"
    }
   ],
   "source": [
    "# Get training and test loss histories\n",
    "training_loss = history.history['loss']\n",
    "test_loss = history.history['val_loss']\n",
    "\n",
    "# Create count of the number of epochs\n",
    "epoch_count = range(1, len(training_loss) + 1)\n",
    "\n",
    "# Visualize loss history\n",
    "plt.plot(epoch_count, training_loss, 'r--')\n",
    "plt.plot(epoch_count, test_loss, 'b-')\n",
    "plt.legend(['Training Loss', 'Test Loss'])\n",
    "plt.xlabel('Epoch')\n",
    "plt.ylabel('Loss')\n",
    "plt.show()"
   ]
  },
  {
   "cell_type": "code",
   "execution_count": 28,
   "id": "16199167",
   "metadata": {},
   "outputs": [
    {
     "data": {
      "image/png": "[encoded data removed]",
      "text/plain": [
       "<Figure size 432x288 with 1 Axes>"
      ]
     },
     "metadata": {
      "needs_background": "light"
     },
     "output_type": "display_data"
    }
   ],
   "source": [
    "# Get training and test loss histories\n",
    "training_accuracy = history.history['accuracy']\n",
    "test_accuracy = history.history['val_accuracy']\n",
    "\n",
    "# Create count of the number of epochs\n",
    "epoch_count = range(1, len(training_accuracy) + 1)\n",
    "\n",
    "# Visualize loss history\n",
    "plt.plot(epoch_count, training_accuracy, 'r--')\n",
    "plt.plot(epoch_count, test_accuracy, 'b-')\n",
    "plt.legend(['Training accuracy', 'Test accuracy'])\n",
    "plt.xlabel('Epoch')\n",
    "plt.ylabel('accuracy')\n",
    "plt.show()"
   ]
  },
  {
   "cell_type": "markdown",
   "id": "a2b15970",
   "metadata": {},
   "source": [
    "### TESTING"
   ]
  },
  {
   "cell_type": "code",
   "execution_count": 29,
   "id": "cc4aedfc",
   "metadata": {},
   "outputs": [
    {
     "name": "stdout",
     "output_type": "stream",
     "text": [
      "[-3.94703491e+02  7.34703293e+01 -3.53244591e+01  3.62132912e+01\n",
      " -9.05511665e+00  1.76549168e+01  2.65979123e+00  1.31876116e+01\n",
      " -4.06161118e+00  2.30188255e+01 -3.75202155e+00  2.06363068e+01\n",
      "  1.23266423e+00  1.40234375e+01  2.04712486e+00  1.38307152e+01\n",
      " -2.92891115e-01  5.79756403e+00 -6.51220369e+00  4.31620979e+00\n",
      " -3.56035733e+00  2.31166387e+00  3.35915744e-01  2.58072639e+00\n",
      "  2.86238521e-01  5.38586044e+00  2.05836892e+00  6.00837994e+00\n",
      "  8.03872198e-02  1.80063653e+00  3.13867855e+00  1.23715520e+00\n",
      "  1.98900068e+00 -4.56986688e-02  6.26967192e-01  1.87162018e+00\n",
      "  9.04317617e-01  2.06228495e+00  1.09569526e+00  1.10982645e+00]\n",
      "[[-3.94703491e+02  7.34703293e+01 -3.53244591e+01  3.62132912e+01\n",
      "  -9.05511665e+00  1.76549168e+01  2.65979123e+00  1.31876116e+01\n",
      "  -4.06161118e+00  2.30188255e+01 -3.75202155e+00  2.06363068e+01\n",
      "   1.23266423e+00  1.40234375e+01  2.04712486e+00  1.38307152e+01\n",
      "  -2.92891115e-01  5.79756403e+00 -6.51220369e+00  4.31620979e+00\n",
      "  -3.56035733e+00  2.31166387e+00  3.35915744e-01  2.58072639e+00\n",
      "   2.86238521e-01  5.38586044e+00  2.05836892e+00  6.00837994e+00\n",
      "   8.03872198e-02  1.80063653e+00  3.13867855e+00  1.23715520e+00\n",
      "   1.98900068e+00 -4.56986688e-02  6.26967192e-01  1.87162018e+00\n",
      "   9.04317617e-01  2.06228495e+00  1.09569526e+00  1.10982645e+00]]\n",
      "(1, 40)\n",
      "[2]\n"
     ]
    },
    {
     "data": {
      "text/plain": [
       "array(['brushing_teeth'], dtype='<U14')"
      ]
     },
     "execution_count": 29,
     "metadata": {},
     "output_type": "execute_result"
    }
   ],
   "source": [
    "filename=r\"C:\\Users\\user\\Downloads\\ESC-50-master\\ESC-50-master\\audio\\1-137-A-32.wav\"\n",
    "audio, sample_rate = librosa.load(filename, res_type='kaiser_fast') \n",
    "mfccs_features = librosa.feature.mfcc(y=audio, sr=sample_rate, n_mfcc=40)\n",
    "mfccs_scaled_features = np.mean(mfccs_features.T,axis=0)\n",
    "\n",
    "print(mfccs_scaled_features)\n",
    "mfccs_scaled_features=mfccs_scaled_features.reshape(1,-1)\n",
    "print(mfccs_scaled_features)\n",
    "print(mfccs_scaled_features.shape)\n",
    "predicted_label=model.predict_classes(mfccs_scaled_features)\n",
    "print(predicted_label)\n",
    "prediction_class = labelencoder.inverse_transform(predicted_label) \n",
    "prediction_class"
   ]
  }
 ],
 "metadata": {
  "kernelspec": {
   "display_name": "Python 3",
   "language": "python",
   "name": "python3"
  },
  "language_info": {
   "codemirror_mode": {
    "name": "ipython",
    "version": 3
   },
   "file_extension": ".py",
   "mimetype": "text/x-python",
   "name": "python",
   "nbconvert_exporter": "python",
   "pygments_lexer": "ipython3",
   "version": "3.8.8"
  }
 },
 "nbformat": 4,
 "nbformat_minor": 5
}
